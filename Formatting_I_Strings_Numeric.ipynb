{
 "cells": [
  {
   "cell_type": "markdown",
   "id": "114e2eb6",
   "metadata": {},
   "source": [
    "<center><img src=\"https://i.imgur.com/zRrFdsf.png\" width=\"700\"></center>\n",
    "\n",
    "# Data Formatting (strings and numeric)\n",
    "\n",
    "Let me clean some data sets:"
   ]
  },
  {
   "cell_type": "code",
   "execution_count": 28,
   "id": "ce709359",
   "metadata": {},
   "outputs": [],
   "source": [
    "# links to websites\n",
    "carbonLink=\"https://www.cia.gov/the-world-factbook/field/carbon-dioxide-emissions/country-comparison\" \n",
    "forestLink=\"https://www.cia.gov/the-world-factbook/field/revenue-from-forest-resources/country-comparison\" \n",
    "\n",
    "# scrapping into LIST of Dataframes\n",
    "\n",
    "import pandas as pd\n",
    "\n",
    "carbonList=pd.read_html(carbonLink,header=0,flavor='bs4')\n",
    "forestList=pd.read_html(forestLink,header=0,flavor='bs4')\n",
    "\n",
    "# getting the Dataframe from list\n",
    "carbon=carbonList[0]\n",
    "forest=forestList[0]\n",
    "\n",
    "# no spaces in column names\n",
    "carbon.columns=carbon.columns.str.replace(r'\\s','',regex=True)\n",
    "forest.columns=forest.columns.str.replace(r'\\s','',regex=True)\n",
    "\n",
    "#renaming\n",
    "newCarbonNames={'metrictonnesofCO2':'co2_tonnes','DateofInformation':'Carbon_yearData'}\n",
    "newForestNames={'%ofGDP':'ForestRevenue_PctGDP', 'DateofInformation':'Forest_yearData'}\n",
    "carbon.rename(columns=newCarbonNames,inplace=True)\n",
    "forest.rename(columns=newForestNames,inplace=True)\n",
    "\n",
    "# dropping\n",
    "toDrop=['Rank']\n",
    "carbon.drop(columns=toDrop,inplace=True)\n",
    "forest.drop(columns=toDrop,inplace=True)\n",
    "\n",
    "# no spaces in string values (to several columns)\n",
    "byeSpaces=lambda x: x.str.strip()\n",
    "carbon.iloc[:,[0,2]]=carbon.iloc[:,[0,2]].apply(byeSpaces)\n",
    "forest.iloc[:,[0,2]]=forest.iloc[:,[0,2]].apply(byeSpaces)\n",
    "\n",
    "# keeping year\n",
    "carbon.Carbon_yearData=carbon.Carbon_yearData.str. extract(pat=r'(\\d+)')\n",
    "forest.Forest_yearData=forest.Forest_yearData.str. extract(pat=r'(\\d+)')"
   ]
  },
  {
   "cell_type": "markdown",
   "id": "01c5d1e3",
   "metadata": {},
   "source": [
    "Verifying year:"
   ]
  },
  {
   "cell_type": "code",
   "execution_count": 29,
   "id": "edf6fdde",
   "metadata": {},
   "outputs": [
    {
     "data": {
      "text/html": [
       "<div>\n",
       "<style scoped>\n",
       "    .dataframe tbody tr th:only-of-type {\n",
       "        vertical-align: middle;\n",
       "    }\n",
       "\n",
       "    .dataframe tbody tr th {\n",
       "        vertical-align: top;\n",
       "    }\n",
       "\n",
       "    .dataframe thead th {\n",
       "        text-align: right;\n",
       "    }\n",
       "</style>\n",
       "<table border=\"1\" class=\"dataframe\">\n",
       "  <thead>\n",
       "    <tr style=\"text-align: right;\">\n",
       "      <th></th>\n",
       "      <th>Country</th>\n",
       "      <th>ForestRevenue_PctGDP</th>\n",
       "      <th>Forest_yearData</th>\n",
       "    </tr>\n",
       "  </thead>\n",
       "  <tbody>\n",
       "  </tbody>\n",
       "</table>\n",
       "</div>"
      ],
      "text/plain": [
       "Empty DataFrame\n",
       "Columns: [Country, ForestRevenue_PctGDP, Forest_yearData]\n",
       "Index: []"
      ]
     },
     "execution_count": 29,
     "metadata": {},
     "output_type": "execute_result"
    }
   ],
   "source": [
    "forest[forest.Forest_yearData.str.contains(r'\\D')]"
   ]
  },
  {
   "cell_type": "code",
   "execution_count": 30,
   "id": "3dc81def",
   "metadata": {},
   "outputs": [
    {
     "data": {
      "text/html": [
       "<div>\n",
       "<style scoped>\n",
       "    .dataframe tbody tr th:only-of-type {\n",
       "        vertical-align: middle;\n",
       "    }\n",
       "\n",
       "    .dataframe tbody tr th {\n",
       "        vertical-align: top;\n",
       "    }\n",
       "\n",
       "    .dataframe thead th {\n",
       "        text-align: right;\n",
       "    }\n",
       "</style>\n",
       "<table border=\"1\" class=\"dataframe\">\n",
       "  <thead>\n",
       "    <tr style=\"text-align: right;\">\n",
       "      <th></th>\n",
       "      <th>Country</th>\n",
       "      <th>co2_tonnes</th>\n",
       "      <th>Carbon_yearData</th>\n",
       "    </tr>\n",
       "  </thead>\n",
       "  <tbody>\n",
       "  </tbody>\n",
       "</table>\n",
       "</div>"
      ],
      "text/plain": [
       "Empty DataFrame\n",
       "Columns: [Country, co2_tonnes, Carbon_yearData]\n",
       "Index: []"
      ]
     },
     "execution_count": 30,
     "metadata": {},
     "output_type": "execute_result"
    }
   ],
   "source": [
    "carbon[carbon.Carbon_yearData.str.contains(r'\\D')]"
   ]
  },
  {
   "cell_type": "markdown",
   "id": "04586061",
   "metadata": {},
   "source": [
    "**Before** starting formatting we check the data types:"
   ]
  },
  {
   "cell_type": "code",
   "execution_count": 31,
   "id": "85a29812",
   "metadata": {},
   "outputs": [
    {
     "name": "stdout",
     "output_type": "stream",
     "text": [
      "<class 'pandas.core.frame.DataFrame'>\n",
      "RangeIndex: 204 entries, 0 to 203\n",
      "Data columns (total 3 columns):\n",
      " #   Column                Non-Null Count  Dtype  \n",
      "---  ------                --------------  -----  \n",
      " 0   Country               204 non-null    object \n",
      " 1   ForestRevenue_PctGDP  204 non-null    float64\n",
      " 2   Forest_yearData       204 non-null    object \n",
      "dtypes: float64(1), object(2)\n",
      "memory usage: 4.9+ KB\n"
     ]
    }
   ],
   "source": [
    "forest.info()"
   ]
  },
  {
   "cell_type": "code",
   "execution_count": 32,
   "id": "75cf5bad",
   "metadata": {},
   "outputs": [
    {
     "name": "stdout",
     "output_type": "stream",
     "text": [
      "<class 'pandas.core.frame.DataFrame'>\n",
      "RangeIndex: 218 entries, 0 to 217\n",
      "Data columns (total 3 columns):\n",
      " #   Column           Non-Null Count  Dtype  \n",
      "---  ------           --------------  -----  \n",
      " 0   Country          218 non-null    object \n",
      " 1   co2_tonnes       218 non-null    float64\n",
      " 2   Carbon_yearData  218 non-null    object \n",
      "dtypes: float64(1), object(2)\n",
      "memory usage: 5.2+ KB\n"
     ]
    }
   ],
   "source": [
    "carbon.info()"
   ]
  },
  {
   "cell_type": "markdown",
   "id": "48c61d43",
   "metadata": {},
   "source": [
    "# String case"
   ]
  },
  {
   "cell_type": "markdown",
   "id": "d9224a35",
   "metadata": {},
   "source": [
    "This is our string column"
   ]
  },
  {
   "cell_type": "code",
   "execution_count": 33,
   "id": "bc3b2c61",
   "metadata": {},
   "outputs": [
    {
     "data": {
      "text/plain": [
       "0                                              China\n",
       "1                                      United States\n",
       "2                                              India\n",
       "3                                             Russia\n",
       "4                                              Japan\n",
       "                           ...                      \n",
       "213                                       Antarctica\n",
       "214    Saint Helena, Ascension, and Tristan da Cunha\n",
       "215                                             Niue\n",
       "216                         Northern Mariana Islands\n",
       "217                                           Tuvalu\n",
       "Name: Country, Length: 218, dtype: object"
      ]
     },
     "execution_count": 33,
     "metadata": {},
     "output_type": "execute_result"
    }
   ],
   "source": [
    "carbon.Country"
   ]
  },
  {
   "cell_type": "code",
   "execution_count": 34,
   "id": "882f3d99",
   "metadata": {},
   "outputs": [
    {
     "data": {
      "text/html": [
       "<div>\n",
       "<style scoped>\n",
       "    .dataframe tbody tr th:only-of-type {\n",
       "        vertical-align: middle;\n",
       "    }\n",
       "\n",
       "    .dataframe tbody tr th {\n",
       "        vertical-align: top;\n",
       "    }\n",
       "\n",
       "    .dataframe thead th {\n",
       "        text-align: right;\n",
       "    }\n",
       "</style>\n",
       "<table border=\"1\" class=\"dataframe\">\n",
       "  <thead>\n",
       "    <tr style=\"text-align: right;\">\n",
       "      <th></th>\n",
       "      <th>Country</th>\n",
       "      <th>co2_tonnes</th>\n",
       "      <th>Carbon_yearData</th>\n",
       "    </tr>\n",
       "  </thead>\n",
       "  <tbody>\n",
       "  </tbody>\n",
       "</table>\n",
       "</div>"
      ],
      "text/plain": [
       "Empty DataFrame\n",
       "Columns: [Country, co2_tonnes, Carbon_yearData]\n",
       "Index: []"
      ]
     },
     "execution_count": 34,
     "metadata": {},
     "output_type": "execute_result"
    }
   ],
   "source": [
    "# do we have duplicates?\n",
    "carbon[carbon.duplicated(subset='Country')]"
   ]
  },
  {
   "cell_type": "code",
   "execution_count": 35,
   "id": "f3b72da5",
   "metadata": {},
   "outputs": [
    {
     "data": {
      "text/html": [
       "<div>\n",
       "<style scoped>\n",
       "    .dataframe tbody tr th:only-of-type {\n",
       "        vertical-align: middle;\n",
       "    }\n",
       "\n",
       "    .dataframe tbody tr th {\n",
       "        vertical-align: top;\n",
       "    }\n",
       "\n",
       "    .dataframe thead th {\n",
       "        text-align: right;\n",
       "    }\n",
       "</style>\n",
       "<table border=\"1\" class=\"dataframe\">\n",
       "  <thead>\n",
       "    <tr style=\"text-align: right;\">\n",
       "      <th></th>\n",
       "      <th>Country</th>\n",
       "      <th>co2_tonnes</th>\n",
       "      <th>Carbon_yearData</th>\n",
       "    </tr>\n",
       "  </thead>\n",
       "  <tbody>\n",
       "    <tr>\n",
       "      <th>6</th>\n",
       "      <td>Korea, South</td>\n",
       "      <td>686954000.0</td>\n",
       "      <td>2019</td>\n",
       "    </tr>\n",
       "    <tr>\n",
       "      <th>16</th>\n",
       "      <td>Turkey (Turkiye)</td>\n",
       "      <td>391792000.0</td>\n",
       "      <td>2019</td>\n",
       "    </tr>\n",
       "    <tr>\n",
       "      <th>86</th>\n",
       "      <td>Korea, North</td>\n",
       "      <td>18465000.0</td>\n",
       "      <td>2019</td>\n",
       "    </tr>\n",
       "    <tr>\n",
       "      <th>99</th>\n",
       "      <td>Cote d'Ivoire</td>\n",
       "      <td>11880000.0</td>\n",
       "      <td>2019</td>\n",
       "    </tr>\n",
       "    <tr>\n",
       "      <th>137</th>\n",
       "      <td>Congo, Republic of the</td>\n",
       "      <td>4523000.0</td>\n",
       "      <td>2019</td>\n",
       "    </tr>\n",
       "    <tr>\n",
       "      <th>141</th>\n",
       "      <td>Bahamas, The</td>\n",
       "      <td>3984000.0</td>\n",
       "      <td>2019</td>\n",
       "    </tr>\n",
       "    <tr>\n",
       "      <th>150</th>\n",
       "      <td>Congo, Democratic Republic of the</td>\n",
       "      <td>2653000.0</td>\n",
       "      <td>2019</td>\n",
       "    </tr>\n",
       "    <tr>\n",
       "      <th>185</th>\n",
       "      <td>Gambia, The</td>\n",
       "      <td>606000.0</td>\n",
       "      <td>2019</td>\n",
       "    </tr>\n",
       "    <tr>\n",
       "      <th>188</th>\n",
       "      <td>Timor-Leste</td>\n",
       "      <td>538000.0</td>\n",
       "      <td>2019</td>\n",
       "    </tr>\n",
       "    <tr>\n",
       "      <th>192</th>\n",
       "      <td>Guinea-Bissau</td>\n",
       "      <td>342000.0</td>\n",
       "      <td>2019</td>\n",
       "    </tr>\n",
       "    <tr>\n",
       "      <th>203</th>\n",
       "      <td>Micronesia, Federated States of</td>\n",
       "      <td>177000.0</td>\n",
       "      <td>2019</td>\n",
       "    </tr>\n",
       "    <tr>\n",
       "      <th>211</th>\n",
       "      <td>Falkland Islands (Islas Malvinas)</td>\n",
       "      <td>46000.0</td>\n",
       "      <td>2019</td>\n",
       "    </tr>\n",
       "    <tr>\n",
       "      <th>214</th>\n",
       "      <td>Saint Helena, Ascension, and Tristan da Cunha</td>\n",
       "      <td>13000.0</td>\n",
       "      <td>2019</td>\n",
       "    </tr>\n",
       "  </tbody>\n",
       "</table>\n",
       "</div>"
      ],
      "text/plain": [
       "                                           Country   co2_tonnes  \\\n",
       "6                                     Korea, South  686954000.0   \n",
       "16                                Turkey (Turkiye)  391792000.0   \n",
       "86                                    Korea, North   18465000.0   \n",
       "99                                   Cote d'Ivoire   11880000.0   \n",
       "137                         Congo, Republic of the    4523000.0   \n",
       "141                                   Bahamas, The    3984000.0   \n",
       "150              Congo, Democratic Republic of the    2653000.0   \n",
       "185                                    Gambia, The     606000.0   \n",
       "188                                    Timor-Leste     538000.0   \n",
       "192                                  Guinea-Bissau     342000.0   \n",
       "203                Micronesia, Federated States of     177000.0   \n",
       "211              Falkland Islands (Islas Malvinas)      46000.0   \n",
       "214  Saint Helena, Ascension, and Tristan da Cunha      13000.0   \n",
       "\n",
       "    Carbon_yearData  \n",
       "6              2019  \n",
       "16             2019  \n",
       "86             2019  \n",
       "99             2019  \n",
       "137            2019  \n",
       "141            2019  \n",
       "150            2019  \n",
       "185            2019  \n",
       "188            2019  \n",
       "192            2019  \n",
       "203            2019  \n",
       "211            2019  \n",
       "214            2019  "
      ]
     },
     "execution_count": 35,
     "metadata": {},
     "output_type": "execute_result"
    }
   ],
   "source": [
    "# do we have weird symbols?\n",
    "carbon[carbon.Country.str.contains(r'[^\\w\\s]')]"
   ]
  },
  {
   "cell_type": "code",
   "execution_count": 36,
   "id": "c8af499a",
   "metadata": {},
   "outputs": [
    {
     "data": {
      "text/html": [
       "<div>\n",
       "<style scoped>\n",
       "    .dataframe tbody tr th:only-of-type {\n",
       "        vertical-align: middle;\n",
       "    }\n",
       "\n",
       "    .dataframe tbody tr th {\n",
       "        vertical-align: top;\n",
       "    }\n",
       "\n",
       "    .dataframe thead th {\n",
       "        text-align: right;\n",
       "    }\n",
       "</style>\n",
       "<table border=\"1\" class=\"dataframe\">\n",
       "  <thead>\n",
       "    <tr style=\"text-align: right;\">\n",
       "      <th></th>\n",
       "      <th>Country</th>\n",
       "      <th>co2_tonnes</th>\n",
       "      <th>Carbon_yearData</th>\n",
       "    </tr>\n",
       "  </thead>\n",
       "  <tbody>\n",
       "    <tr>\n",
       "      <th>99</th>\n",
       "      <td>Cote d'Ivoire</td>\n",
       "      <td>11880000.0</td>\n",
       "      <td>2019</td>\n",
       "    </tr>\n",
       "  </tbody>\n",
       "</table>\n",
       "</div>"
      ],
      "text/plain": [
       "          Country  co2_tonnes Carbon_yearData\n",
       "99  Cote d'Ivoire  11880000.0            2019"
      ]
     },
     "execution_count": 36,
     "metadata": {},
     "output_type": "execute_result"
    }
   ],
   "source": [
    "# accents in words:\n",
    "carbon[carbon.Country.str.contains(r\"\\w*[\\u00C0-\\u01DA']\\w*\")]"
   ]
  },
  {
   "cell_type": "code",
   "execution_count": 37,
   "id": "1d86708c",
   "metadata": {},
   "outputs": [],
   "source": [
    "# only ascii\n",
    "from unidecode import unidecode\n",
    "\n",
    "carbon['Country']=carbon.Country.apply(unidecode)\n",
    "forest['Country']=forest.Country.apply(unidecode)"
   ]
  },
  {
   "cell_type": "markdown",
   "id": "18837c55",
   "metadata": {},
   "source": [
    "The capitalization is an important step, it may help in later stages when merging data frames:\n",
    "\n",
    "* str.lower(): all to lowercase.\n",
    "\n",
    "* str.upper(): ALL TO UPPERCASE.\n",
    "\n",
    "* str.title(): First Character Of Each Word To Uppercase. \n",
    "\n",
    "* str.capitalize(): First character to uppercase and remaining to lowercase.\n",
    "\n",
    "**You can only apply this if the cells are strings.**\n",
    "\n",
    "Let's do it:"
   ]
  },
  {
   "cell_type": "code",
   "execution_count": 38,
   "id": "3c9f6b40",
   "metadata": {},
   "outputs": [
    {
     "data": {
      "text/html": [
       "<div>\n",
       "<style scoped>\n",
       "    .dataframe tbody tr th:only-of-type {\n",
       "        vertical-align: middle;\n",
       "    }\n",
       "\n",
       "    .dataframe tbody tr th {\n",
       "        vertical-align: top;\n",
       "    }\n",
       "\n",
       "    .dataframe thead th {\n",
       "        text-align: right;\n",
       "    }\n",
       "</style>\n",
       "<table border=\"1\" class=\"dataframe\">\n",
       "  <thead>\n",
       "    <tr style=\"text-align: right;\">\n",
       "      <th></th>\n",
       "      <th>Country</th>\n",
       "      <th>co2_tonnes</th>\n",
       "      <th>Carbon_yearData</th>\n",
       "      <th>countryname</th>\n",
       "      <th>COUNTRYNAME</th>\n",
       "      <th>CountryName</th>\n",
       "    </tr>\n",
       "  </thead>\n",
       "  <tbody>\n",
       "    <tr>\n",
       "      <th>0</th>\n",
       "      <td>China</td>\n",
       "      <td>1.077325e+10</td>\n",
       "      <td>2019</td>\n",
       "      <td>china</td>\n",
       "      <td>CHINA</td>\n",
       "      <td>China</td>\n",
       "    </tr>\n",
       "    <tr>\n",
       "      <th>1</th>\n",
       "      <td>United States</td>\n",
       "      <td>5.144361e+09</td>\n",
       "      <td>2019</td>\n",
       "      <td>united states</td>\n",
       "      <td>UNITED STATES</td>\n",
       "      <td>United States</td>\n",
       "    </tr>\n",
       "    <tr>\n",
       "      <th>2</th>\n",
       "      <td>India</td>\n",
       "      <td>2.314738e+09</td>\n",
       "      <td>2019</td>\n",
       "      <td>india</td>\n",
       "      <td>INDIA</td>\n",
       "      <td>India</td>\n",
       "    </tr>\n",
       "    <tr>\n",
       "      <th>3</th>\n",
       "      <td>Russia</td>\n",
       "      <td>1.848070e+09</td>\n",
       "      <td>2019</td>\n",
       "      <td>russia</td>\n",
       "      <td>RUSSIA</td>\n",
       "      <td>Russia</td>\n",
       "    </tr>\n",
       "    <tr>\n",
       "      <th>4</th>\n",
       "      <td>Japan</td>\n",
       "      <td>1.103234e+09</td>\n",
       "      <td>2019</td>\n",
       "      <td>japan</td>\n",
       "      <td>JAPAN</td>\n",
       "      <td>Japan</td>\n",
       "    </tr>\n",
       "    <tr>\n",
       "      <th>...</th>\n",
       "      <td>...</td>\n",
       "      <td>...</td>\n",
       "      <td>...</td>\n",
       "      <td>...</td>\n",
       "      <td>...</td>\n",
       "      <td>...</td>\n",
       "    </tr>\n",
       "    <tr>\n",
       "      <th>213</th>\n",
       "      <td>Antarctica</td>\n",
       "      <td>2.800000e+04</td>\n",
       "      <td>2019</td>\n",
       "      <td>antarctica</td>\n",
       "      <td>ANTARCTICA</td>\n",
       "      <td>Antarctica</td>\n",
       "    </tr>\n",
       "    <tr>\n",
       "      <th>214</th>\n",
       "      <td>Saint Helena, Ascension, and Tristan da Cunha</td>\n",
       "      <td>1.300000e+04</td>\n",
       "      <td>2019</td>\n",
       "      <td>saint helena, ascension, and tristan da cunha</td>\n",
       "      <td>SAINT HELENA, ASCENSION, AND TRISTAN DA CUNHA</td>\n",
       "      <td>Saint Helena, Ascension, And Tristan Da Cunha</td>\n",
       "    </tr>\n",
       "    <tr>\n",
       "      <th>215</th>\n",
       "      <td>Niue</td>\n",
       "      <td>8.000000e+03</td>\n",
       "      <td>2019</td>\n",
       "      <td>niue</td>\n",
       "      <td>NIUE</td>\n",
       "      <td>Niue</td>\n",
       "    </tr>\n",
       "    <tr>\n",
       "      <th>216</th>\n",
       "      <td>Northern Mariana Islands</td>\n",
       "      <td>0.000000e+00</td>\n",
       "      <td>2019</td>\n",
       "      <td>northern mariana islands</td>\n",
       "      <td>NORTHERN MARIANA ISLANDS</td>\n",
       "      <td>Northern Mariana Islands</td>\n",
       "    </tr>\n",
       "    <tr>\n",
       "      <th>217</th>\n",
       "      <td>Tuvalu</td>\n",
       "      <td>0.000000e+00</td>\n",
       "      <td>2019</td>\n",
       "      <td>tuvalu</td>\n",
       "      <td>TUVALU</td>\n",
       "      <td>Tuvalu</td>\n",
       "    </tr>\n",
       "  </tbody>\n",
       "</table>\n",
       "<p>218 rows × 6 columns</p>\n",
       "</div>"
      ],
      "text/plain": [
       "                                           Country    co2_tonnes  \\\n",
       "0                                            China  1.077325e+10   \n",
       "1                                    United States  5.144361e+09   \n",
       "2                                            India  2.314738e+09   \n",
       "3                                           Russia  1.848070e+09   \n",
       "4                                            Japan  1.103234e+09   \n",
       "..                                             ...           ...   \n",
       "213                                     Antarctica  2.800000e+04   \n",
       "214  Saint Helena, Ascension, and Tristan da Cunha  1.300000e+04   \n",
       "215                                           Niue  8.000000e+03   \n",
       "216                       Northern Mariana Islands  0.000000e+00   \n",
       "217                                         Tuvalu  0.000000e+00   \n",
       "\n",
       "    Carbon_yearData                                    countryname  \\\n",
       "0              2019                                          china   \n",
       "1              2019                                  united states   \n",
       "2              2019                                          india   \n",
       "3              2019                                         russia   \n",
       "4              2019                                          japan   \n",
       "..              ...                                            ...   \n",
       "213            2019                                     antarctica   \n",
       "214            2019  saint helena, ascension, and tristan da cunha   \n",
       "215            2019                                           niue   \n",
       "216            2019                       northern mariana islands   \n",
       "217            2019                                         tuvalu   \n",
       "\n",
       "                                       COUNTRYNAME  \\\n",
       "0                                            CHINA   \n",
       "1                                    UNITED STATES   \n",
       "2                                            INDIA   \n",
       "3                                           RUSSIA   \n",
       "4                                            JAPAN   \n",
       "..                                             ...   \n",
       "213                                     ANTARCTICA   \n",
       "214  SAINT HELENA, ASCENSION, AND TRISTAN DA CUNHA   \n",
       "215                                           NIUE   \n",
       "216                       NORTHERN MARIANA ISLANDS   \n",
       "217                                         TUVALU   \n",
       "\n",
       "                                       CountryName  \n",
       "0                                            China  \n",
       "1                                    United States  \n",
       "2                                            India  \n",
       "3                                           Russia  \n",
       "4                                            Japan  \n",
       "..                                             ...  \n",
       "213                                     Antarctica  \n",
       "214  Saint Helena, Ascension, And Tristan Da Cunha  \n",
       "215                                           Niue  \n",
       "216                       Northern Mariana Islands  \n",
       "217                                         Tuvalu  \n",
       "\n",
       "[218 rows x 6 columns]"
      ]
     },
     "execution_count": 38,
     "metadata": {},
     "output_type": "execute_result"
    }
   ],
   "source": [
    "carbon_test=carbon.copy()\n",
    "carbon_test['countryname']=carbon_test.Country.str.lower()\n",
    "carbon_test['COUNTRYNAME']=carbon_test.Country.str.upper()\n",
    "carbon_test['CountryName']=carbon_test.Country.str.title()\n",
    "carbon_test"
   ]
  },
  {
   "cell_type": "code",
   "execution_count": 39,
   "id": "e0a681ee",
   "metadata": {},
   "outputs": [],
   "source": [
    "#Let's keep the upper case\n",
    "carbon['Country']=carbon.Country.str.upper()\n",
    "forest['Country']=forest.Country.str.upper()"
   ]
  },
  {
   "cell_type": "code",
   "execution_count": 40,
   "id": "45a5dc73",
   "metadata": {},
   "outputs": [],
   "source": [
    "# we can save this:\n",
    "import os\n",
    "\n",
    "carbon.to_csv(os.path.join(\"data\",\"carbon_formatted.csv\"),index=False)\n",
    "forest.to_csv(os.path.join(\"data\",\"forest_formatted.csv\"),index=False)"
   ]
  },
  {
   "cell_type": "markdown",
   "id": "08275df0",
   "metadata": {},
   "source": [
    "# Numeric case"
   ]
  },
  {
   "cell_type": "markdown",
   "id": "3870449f",
   "metadata": {},
   "source": [
    "If numeric data **looks** good, but the computernhas not recognised it as a number we are still in trouble:"
   ]
  },
  {
   "cell_type": "code",
   "execution_count": 41,
   "id": "88f797a0",
   "metadata": {},
   "outputs": [
    {
     "data": {
      "text/plain": [
       "0      2019\n",
       "1      2019\n",
       "2      2019\n",
       "3      2019\n",
       "4      2019\n",
       "       ... \n",
       "213    2019\n",
       "214    2019\n",
       "215    2019\n",
       "216    2019\n",
       "217    2019\n",
       "Name: Carbon_yearData, Length: 218, dtype: object"
      ]
     },
     "execution_count": 41,
     "metadata": {},
     "output_type": "execute_result"
    }
   ],
   "source": [
    "#looks good\n",
    "carbon.Carbon_yearData"
   ]
  },
  {
   "cell_type": "code",
   "execution_count": 42,
   "id": "0c5700d0",
   "metadata": {},
   "outputs": [
    {
     "name": "stdout",
     "output_type": "stream",
     "text": [
      "<class 'pandas.core.series.Series'>\n",
      "RangeIndex: 218 entries, 0 to 217\n",
      "Series name: Carbon_yearData\n",
      "Non-Null Count  Dtype \n",
      "--------------  ----- \n",
      "218 non-null    object\n",
      "dtypes: object(1)\n",
      "memory usage: 1.8+ KB\n"
     ]
    }
   ],
   "source": [
    "# not numeric data\n",
    "carbon.Carbon_yearData.info()"
   ]
  },
  {
   "cell_type": "code",
   "execution_count": 43,
   "id": "837324ef",
   "metadata": {},
   "outputs": [
    {
     "data": {
      "text/plain": [
       "'2019'"
      ]
     },
     "execution_count": 43,
     "metadata": {},
     "output_type": "execute_result"
    }
   ],
   "source": [
    "# see ONE element\n",
    "carbon.Carbon_yearData[0]"
   ]
  },
  {
   "cell_type": "markdown",
   "id": "6f33e9ed",
   "metadata": {},
   "source": [
    "You can not get any **expected** statistics if the values are not recognised as numeric:"
   ]
  },
  {
   "cell_type": "code",
   "execution_count": 44,
   "id": "ec20d23f",
   "metadata": {},
   "outputs": [
    {
     "data": {
      "text/plain": [
       "count      218\n",
       "unique       3\n",
       "top       2019\n",
       "freq       216\n",
       "Name: Carbon_yearData, dtype: object"
      ]
     },
     "execution_count": 44,
     "metadata": {},
     "output_type": "execute_result"
    }
   ],
   "source": [
    "carbon.Carbon_yearData.describe()"
   ]
  },
  {
   "cell_type": "markdown",
   "id": "046c3671",
   "metadata": {},
   "source": [
    "The easiest way is to use the **pd.to_numeric** function in pandas:"
   ]
  },
  {
   "cell_type": "code",
   "execution_count": 45,
   "id": "89e11f37",
   "metadata": {},
   "outputs": [
    {
     "data": {
      "text/plain": [
       "count     218.000000\n",
       "mean     2018.958716\n",
       "std         0.492471\n",
       "min      2012.000000\n",
       "25%      2019.000000\n",
       "50%      2019.000000\n",
       "75%      2019.000000\n",
       "max      2019.000000\n",
       "Name: Carbon_yearData, dtype: float64"
      ]
     },
     "execution_count": 45,
     "metadata": {},
     "output_type": "execute_result"
    }
   ],
   "source": [
    "# now you get stats for numeric data\n",
    "pd.to_numeric(carbon.Carbon_yearData).describe()"
   ]
  },
  {
   "cell_type": "markdown",
   "id": "b92c1374",
   "metadata": {},
   "source": [
    "Then:"
   ]
  },
  {
   "cell_type": "code",
   "execution_count": 46,
   "id": "db9c2dba",
   "metadata": {},
   "outputs": [
    {
     "name": "stdout",
     "output_type": "stream",
     "text": [
      "<class 'pandas.core.frame.DataFrame'>\n",
      "RangeIndex: 218 entries, 0 to 217\n",
      "Data columns (total 3 columns):\n",
      " #   Column           Non-Null Count  Dtype  \n",
      "---  ------           --------------  -----  \n",
      " 0   Country          218 non-null    object \n",
      " 1   co2_tonnes       218 non-null    float64\n",
      " 2   Carbon_yearData  218 non-null    int64  \n",
      "dtypes: float64(1), int64(1), object(1)\n",
      "memory usage: 5.2+ KB\n"
     ]
    }
   ],
   "source": [
    "carbon['Carbon_yearData']=pd.to_numeric(carbon.Carbon_yearData)\n",
    "carbon.info()"
   ]
  },
  {
   "cell_type": "code",
   "execution_count": 47,
   "id": "5a04b0d2",
   "metadata": {},
   "outputs": [
    {
     "name": "stdout",
     "output_type": "stream",
     "text": [
      "<class 'pandas.core.frame.DataFrame'>\n",
      "RangeIndex: 204 entries, 0 to 203\n",
      "Data columns (total 3 columns):\n",
      " #   Column                Non-Null Count  Dtype  \n",
      "---  ------                --------------  -----  \n",
      " 0   Country               204 non-null    object \n",
      " 1   ForestRevenue_PctGDP  204 non-null    float64\n",
      " 2   Forest_yearData       204 non-null    int64  \n",
      "dtypes: float64(1), int64(1), object(1)\n",
      "memory usage: 4.9+ KB\n"
     ]
    }
   ],
   "source": [
    "forest['Forest_yearData']=pd.to_numeric(forest.Forest_yearData)\n",
    "forest.info()"
   ]
  },
  {
   "cell_type": "markdown",
   "id": "12ea88a5",
   "metadata": {},
   "source": [
    "Let's overwrite our previous files"
   ]
  },
  {
   "cell_type": "code",
   "execution_count": 48,
   "id": "5be057ee",
   "metadata": {},
   "outputs": [],
   "source": [
    "carbon.to_csv(os.path.join(\"data\",\"carbon_formatted.csv\"),index=False)\n",
    "forest.to_csv(os.path.join(\"data\",\"forest_formatted.csv\"),index=False)"
   ]
  },
  {
   "cell_type": "markdown",
   "id": "012b3763",
   "metadata": {},
   "source": [
    "Notice that this works only if the column has already been cleaned:"
   ]
  },
  {
   "cell_type": "code",
   "execution_count": 49,
   "id": "c459e828",
   "metadata": {},
   "outputs": [
    {
     "data": {
      "text/html": [
       "<div>\n",
       "<style scoped>\n",
       "    .dataframe tbody tr th:only-of-type {\n",
       "        vertical-align: middle;\n",
       "    }\n",
       "\n",
       "    .dataframe tbody tr th {\n",
       "        vertical-align: top;\n",
       "    }\n",
       "\n",
       "    .dataframe thead th {\n",
       "        text-align: right;\n",
       "    }\n",
       "</style>\n",
       "<table border=\"1\" class=\"dataframe\">\n",
       "  <thead>\n",
       "    <tr style=\"text-align: right;\">\n",
       "      <th></th>\n",
       "      <th>someVals</th>\n",
       "    </tr>\n",
       "  </thead>\n",
       "  <tbody>\n",
       "    <tr>\n",
       "      <th>0</th>\n",
       "      <td>1</td>\n",
       "    </tr>\n",
       "    <tr>\n",
       "      <th>1</th>\n",
       "      <td>2</td>\n",
       "    </tr>\n",
       "    <tr>\n",
       "      <th>2</th>\n",
       "      <td>3</td>\n",
       "    </tr>\n",
       "    <tr>\n",
       "      <th>3</th>\n",
       "      <td>4</td>\n",
       "    </tr>\n",
       "    <tr>\n",
       "      <th>4</th>\n",
       "      <td>5</td>\n",
       "    </tr>\n",
       "    <tr>\n",
       "      <th>5</th>\n",
       "      <td>x</td>\n",
       "    </tr>\n",
       "  </tbody>\n",
       "</table>\n",
       "</div>"
      ],
      "text/plain": [
       "  someVals\n",
       "0        1\n",
       "1        2\n",
       "2        3\n",
       "3        4\n",
       "4        5\n",
       "5        x"
      ]
     },
     "execution_count": 49,
     "metadata": {},
     "output_type": "execute_result"
    }
   ],
   "source": [
    "# a list of values\n",
    "listValues=[1,2,3,4,'5','x']\n",
    "dictValues={'someVals':listValues}\n",
    "# a series\n",
    "aDataFrame=pd.DataFrame(dictValues)\n",
    "\n",
    "aDataFrame"
   ]
  },
  {
   "cell_type": "code",
   "execution_count": 50,
   "id": "a00f010b",
   "metadata": {},
   "outputs": [
    {
     "ename": "ValueError",
     "evalue": "Unable to parse string \"x\" at position 5",
     "output_type": "error",
     "traceback": [
      "\u001b[0;31m---------------------------------------------------------------------------\u001b[0m",
      "\u001b[0;31mValueError\u001b[0m                                Traceback (most recent call last)",
      "\u001b[0;32m~/opt/anaconda3/lib/python3.9/site-packages/pandas/_libs/lib.pyx\u001b[0m in \u001b[0;36mpandas._libs.lib.maybe_convert_numeric\u001b[0;34m()\u001b[0m\n",
      "\u001b[0;31mValueError\u001b[0m: Unable to parse string \"x\"",
      "\nDuring handling of the above exception, another exception occurred:\n",
      "\u001b[0;31mValueError\u001b[0m                                Traceback (most recent call last)",
      "\u001b[0;32m/var/folders/pp/wsqs486n1_s3v87bwxgl6p440000gn/T/ipykernel_2779/869241343.py\u001b[0m in \u001b[0;36m<module>\u001b[0;34m\u001b[0m\n\u001b[0;32m----> 1\u001b[0;31m \u001b[0mpd\u001b[0m\u001b[0;34m.\u001b[0m\u001b[0mto_numeric\u001b[0m\u001b[0;34m(\u001b[0m\u001b[0maDataFrame\u001b[0m\u001b[0;34m.\u001b[0m\u001b[0msomeVals\u001b[0m\u001b[0;34m)\u001b[0m\u001b[0;34m\u001b[0m\u001b[0;34m\u001b[0m\u001b[0m\n\u001b[0m",
      "\u001b[0;32m~/opt/anaconda3/lib/python3.9/site-packages/pandas/core/tools/numeric.py\u001b[0m in \u001b[0;36mto_numeric\u001b[0;34m(arg, errors, downcast)\u001b[0m\n\u001b[1;32m    182\u001b[0m         \u001b[0mcoerce_numeric\u001b[0m \u001b[0;34m=\u001b[0m \u001b[0merrors\u001b[0m \u001b[0;32mnot\u001b[0m \u001b[0;32min\u001b[0m \u001b[0;34m(\u001b[0m\u001b[0;34m\"ignore\"\u001b[0m\u001b[0;34m,\u001b[0m \u001b[0;34m\"raise\"\u001b[0m\u001b[0;34m)\u001b[0m\u001b[0;34m\u001b[0m\u001b[0;34m\u001b[0m\u001b[0m\n\u001b[1;32m    183\u001b[0m         \u001b[0;32mtry\u001b[0m\u001b[0;34m:\u001b[0m\u001b[0;34m\u001b[0m\u001b[0;34m\u001b[0m\u001b[0m\n\u001b[0;32m--> 184\u001b[0;31m             values, _ = lib.maybe_convert_numeric(\n\u001b[0m\u001b[1;32m    185\u001b[0m                 \u001b[0mvalues\u001b[0m\u001b[0;34m,\u001b[0m \u001b[0mset\u001b[0m\u001b[0;34m(\u001b[0m\u001b[0;34m)\u001b[0m\u001b[0;34m,\u001b[0m \u001b[0mcoerce_numeric\u001b[0m\u001b[0;34m=\u001b[0m\u001b[0mcoerce_numeric\u001b[0m\u001b[0;34m\u001b[0m\u001b[0;34m\u001b[0m\u001b[0m\n\u001b[1;32m    186\u001b[0m             )\n",
      "\u001b[0;32m~/opt/anaconda3/lib/python3.9/site-packages/pandas/_libs/lib.pyx\u001b[0m in \u001b[0;36mpandas._libs.lib.maybe_convert_numeric\u001b[0;34m()\u001b[0m\n",
      "\u001b[0;31mValueError\u001b[0m: Unable to parse string \"x\" at position 5"
     ]
    }
   ],
   "source": [
    "pd.to_numeric(aDataFrame.someVals)"
   ]
  },
  {
   "cell_type": "code",
   "execution_count": 51,
   "id": "5e14cedd",
   "metadata": {},
   "outputs": [
    {
     "data": {
      "text/plain": [
       "0    1.0\n",
       "1    2.0\n",
       "2    3.0\n",
       "3    4.0\n",
       "4    5.0\n",
       "5    NaN\n",
       "Name: someVals, dtype: float64"
      ]
     },
     "execution_count": 51,
     "metadata": {},
     "output_type": "execute_result"
    }
   ],
   "source": [
    "pd.to_numeric(aDataFrame.someVals,errors='coerce')"
   ]
  },
  {
   "cell_type": "code",
   "execution_count": 52,
   "id": "1dce516d",
   "metadata": {},
   "outputs": [
    {
     "data": {
      "text/plain": [
       "0    1\n",
       "1    2\n",
       "2    3\n",
       "3    4\n",
       "4    5\n",
       "5    x\n",
       "Name: someVals, dtype: object"
      ]
     },
     "execution_count": 52,
     "metadata": {},
     "output_type": "execute_result"
    }
   ],
   "source": [
    "pd.to_numeric(aDataFrame.someVals,errors='ignore')"
   ]
  },
  {
   "cell_type": "markdown",
   "id": "3d9d0f2f",
   "metadata": {},
   "source": [
    "In this case, the **coerce** argument would be the best choice."
   ]
  },
  {
   "cell_type": "code",
   "execution_count": null,
   "id": "a106adc9",
   "metadata": {},
   "outputs": [],
   "source": []
  }
 ],
 "metadata": {
  "kernelspec": {
   "display_name": "Python 3 (ipykernel)",
   "language": "python",
   "name": "python3"
  },
  "language_info": {
   "codemirror_mode": {
    "name": "ipython",
    "version": 3
   },
   "file_extension": ".py",
   "mimetype": "text/x-python",
   "name": "python",
   "nbconvert_exporter": "python",
   "pygments_lexer": "ipython3",
   "version": "3.9.13"
  }
 },
 "nbformat": 4,
 "nbformat_minor": 5
}
